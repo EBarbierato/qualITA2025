{
 "cells": [
  {
   "cell_type": "code",
   "execution_count": 3,
   "id": "5419fc1f-119f-4d38-97b4-eb7fdc7f65ec",
   "metadata": {},
   "outputs": [
    {
     "data": {
      "text/plain": [
       "'plots\\\\cspn.pdf'"
      ]
     },
     "execution_count": 3,
     "metadata": {},
     "output_type": "execute_result"
    }
   ],
   "source": [
    "from graphviz import Digraph\n",
    "\n",
    "# Initialize Digraph with vertical layout, reduced size\n",
    "dot = Digraph(format='pdf')\n",
    "dot.attr(rankdir='TB', fontsize='18', size='5.1,5.1', dpi='96')\n",
    "\n",
    "# Define places with color sets\n",
    "places = {\n",
    "    \"Devices\": (\"Devices\", \"DeviceSet\"),\n",
    "    \"Attackers\": (\"Attackers\", \"AttackClass\"),\n",
    "    \"SecuritySystem\": (\"SecuritySystem\", \"MitigatorSet\"),\n",
    "    \"Operators\": (\"Operators\", \"OperatorSet\"),\n",
    "    \"Alerts\": (\"Alerts\", \"AlertSet\")\n",
    "}\n",
    "\n",
    "for pid, (label, colorset) in places.items():\n",
    "    dot.node(pid,\n",
    "             label=f'''<\n",
    "             <TABLE BORDER=\"0\" CELLBORDER=\"0\" CELLSPACING=\"0\">\n",
    "               <TR><TD><FONT POINT-SIZE=\"16\"><B>{colorset}</B></FONT></TD></TR>\n",
    "               <TR><TD><FONT POINT-SIZE=\"16\">{label}</FONT></TD></TR>\n",
    "             </TABLE>>''',\n",
    "             shape='circle')\n",
    "\n",
    "# Define transitions: label, lambda\n",
    "transitions = {\n",
    "    \"T1\": (\"CompromiseDevice\", 0.06),\n",
    "    \"T2\": (\"MitigateDevice\", 0.05),\n",
    "    \"T3\": (\"AdaptAttack\", 0.075),\n",
    "    \"T4\": (\"GainControl\", 0.080),\n",
    "    \"T5\": (\"HumanRecovery\", 0.040),\n",
    "    \"T6\": (\"RaiseAlert\", 0.070),\n",
    "    \"T7\": (\"TriggerMitigation\", 0.090),\n",
    "    \"T8\": (\"OverloadOperator\", 0.050)\n",
    "}\n",
    "\n",
    "for tid, (desc, rate) in transitions.items():\n",
    "    dot.node(tid,\n",
    "             label=f'''<\n",
    "             <TABLE BORDER=\"0\" CELLBORDER=\"0\" CELLSPACING=\"1\">\n",
    "               <TR><TD><FONT POINT-SIZE=\"16\"><B>{tid}</B></FONT></TD></TR>\n",
    "               <TR><TD><FONT POINT-SIZE=\"16\">{desc}</FONT></TD></TR>\n",
    "               <TR><TD><FONT POINT-SIZE=\"14\">λ = {rate:.3f}</FONT></TD></TR>\n",
    "             </TABLE>>''',\n",
    "             shape='box')\n",
    "\n",
    "# Define arcs\n",
    "arc_defs = [\n",
    "    (\"Attackers\", \"T1\", \"att.target = dev.d and dev.s = NORMAL\"),\n",
    "    (\"Devices\", \"T1\", \"\"),\n",
    "    (\"T1\", \"Devices\", \"\"),\n",
    "\n",
    "    (\"Devices\", \"T2\", \"dev.s = COMPROMISED\"),\n",
    "    (\"SecuritySystem\", \"T2\", \"mitigator ready\"),\n",
    "    (\"T2\", \"Devices\", \"\"),\n",
    "\n",
    "    (\"Attackers\", \"T3\", \"strategy failed\"),\n",
    "    (\"T3\", \"Attackers\", \"\"),\n",
    "\n",
    "    (\"Attackers\", \"T4\", \"attacker adapted\"),\n",
    "    (\"T4\", \"Devices\", \"\"),\n",
    "\n",
    "    (\"Devices\", \"T5\", \"\"),\n",
    "    (\"Operators\", \"T5\", \"operator available and not overloaded\"),\n",
    "    (\"T5\", \"Devices\", \"\"),\n",
    "\n",
    "    (\"Devices\", \"T6\", \"#COMPROMISED(devices) > θ\"),\n",
    "    (\"T6\", \"Alerts\", \"\"),\n",
    "\n",
    "    (\"Alerts\", \"T7\", \"alert active\"),\n",
    "    (\"T7\", \"SecuritySystem\", \"\"),\n",
    "\n",
    "    (\"Alerts\", \"T8\", \"too many alerts/operator\"),\n",
    "    (\"Operators\", \"T8\", \"\"),\n",
    "    (\"T8\", \"Operators\", \"\")\n",
    "]\n",
    "\n",
    "# Add edges with labels\n",
    "for src, dst, label in arc_defs:\n",
    "    dot.edge(src, dst, label=label, fontsize=\"14\")\n",
    "\n",
    "# Output\n",
    "output_path = \"./plots/cspn\"\n",
    "dot.render(output_path)\n"
   ]
  },
  {
   "cell_type": "code",
   "execution_count": null,
   "id": "6942de8e-75fa-444f-a2a0-4b51d4a358eb",
   "metadata": {},
   "outputs": [],
   "source": []
  }
 ],
 "metadata": {
  "kernelspec": {
   "display_name": "Python 3 (ipykernel)",
   "language": "python",
   "name": "python3"
  },
  "language_info": {
   "codemirror_mode": {
    "name": "ipython",
    "version": 3
   },
   "file_extension": ".py",
   "mimetype": "text/x-python",
   "name": "python",
   "nbconvert_exporter": "python",
   "pygments_lexer": "ipython3",
   "version": "3.11.8"
  }
 },
 "nbformat": 4,
 "nbformat_minor": 5
}
