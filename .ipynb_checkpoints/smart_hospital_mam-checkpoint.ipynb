{
 "cells": [
  {
   "cell_type": "markdown",
   "id": "81597136-be5b-4369-82f6-c074544c036b",
   "metadata": {},
   "source": [
    "# MAM per il smart hospital"
   ]
  },
  {
   "cell_type": "code",
   "execution_count": 1,
   "id": "9e1f0680-ed6a-4fb7-a27f-643e11352019",
   "metadata": {},
   "outputs": [],
   "source": [
    "import numpy as np\n",
    "from scipy.integrate import solve_ivp, simpson\n",
    "import matplotlib.pyplot as plt\n",
    "import os\n",
    "\n",
    "\n",
    "os.makedirs(\"plots\", exist_ok=True)\n",
    "\n"
   ]
  },
  {
   "cell_type": "markdown",
   "id": "4e45b12e-c844-4de5-ba97-7821f196e5b9",
   "metadata": {},
   "source": [
    "# Transition rates"
   ]
  },
  {
   "cell_type": "code",
   "execution_count": 2,
   "id": "c83c8bc0-5630-4e6a-b1a0-fc2ff9361562",
   "metadata": {},
   "outputs": [],
   "source": [
    "\n",
    "params = {\n",
    "    'lambda_a1_a2': 0.075,\n",
    "    'lambda_a2_a3': 0.080,\n",
    "    'lambda_p0_p2': 0.060,\n",
    "    'lambda_p2_p1': 0.050,\n",
    "    'lambda_s0_s1': 0.070,\n",
    "    'lambda_s1_s2': 0.090,\n",
    "    'lambda_e0_e1': 0.055,\n",
    "    'lambda_v2_v0': 0.040,\n",
    "    'lambda_u0_u1': 0.065,\n",
    "    'lambda_u1_u2': 0.050\n",
    "}\n",
    "\n"
   ]
  },
  {
   "cell_type": "markdown",
   "id": "922c7133-1771-4d0d-b7d3-2b0fbb379910",
   "metadata": {},
   "source": [
    "# ODE system"
   ]
  },
  {
   "cell_type": "code",
   "execution_count": 3,
   "id": "0b8c03c8-b511-4232-b4cd-0d9a88d9dc19",
   "metadata": {},
   "outputs": [],
   "source": [
    "# ODE system (from the article)\n",
    "def mam_odes(t, y, p):\n",
    "    (p0, p1, p2,\n",
    "     s0, s1, s2,\n",
    "     a0, a1, a2, a3,\n",
    "     u0, u1, u2) = y\n",
    "\n",
    "    dp0 = -p['lambda_p0_p2'] * a3 * p0\n",
    "    dp2 = p['lambda_p0_p2'] * a3 * p0 - p['lambda_p2_p1'] * s2 * p2\n",
    "    dp1 = p['lambda_p2_p1'] * s2 * p2\n",
    "\n",
    "    ds0 = -p['lambda_s0_s1'] * s0\n",
    "    ds1 = p['lambda_s0_s1'] * s0 - p['lambda_s1_s2'] * s1\n",
    "    ds2 = p['lambda_s1_s2'] * s1\n",
    "\n",
    "    da0 = -p['lambda_a1_a2'] * a0\n",
    "    da1 = p['lambda_a1_a2'] * a0 - p['lambda_a2_a3'] * a1\n",
    "    da2 = p['lambda_a2_a3'] * a1 - p['lambda_a2_a3'] * a2\n",
    "    da3 = p['lambda_a2_a3'] * a2\n",
    "\n",
    "    du0 = -p['lambda_u0_u1'] * u0\n",
    "    du1 = p['lambda_u0_u1'] * u0 - p['lambda_u1_u2'] * u1\n",
    "    du2 = p['lambda_u1_u2'] * u1\n",
    "\n",
    "    return [dp0, dp1, dp2,\n",
    "            ds0, ds1, ds2,\n",
    "            da0, da1, da2, da3,\n",
    "            du0, du1, du2]\n"
   ]
  },
  {
   "cell_type": "code",
   "execution_count": 4,
   "id": "cad6e65d-10aa-4d37-99c3-982e4165709c",
   "metadata": {},
   "outputs": [],
   "source": [
    "# Initial conditions (fractions)\n",
    "y0 = [1.0, 0.0, 0.0,   # p0, p1, p2\n",
    "      1.0, 0.0, 0.0,   # s0, s1, s2\n",
    "      1.0, 0.0, 0.0, 0.0,  # a0, a1, a2, a3\n",
    "      1.0, 0.0, 0.0]   # u0, u1, u2\n",
    "\n",
    "# Time span (hours)\n",
    "t_span = (0, 100)\n",
    "t_eval = np.linspace(*t_span, 1000)\n",
    "\n",
    "# Solve the ODE\n",
    "sol = solve_ivp(mam_odes, t_span, y0, t_eval=t_eval, args=(params,))\n",
    "\n"
   ]
  },
  {
   "cell_type": "code",
   "execution_count": 5,
   "id": "93f7c5af-70ee-4ced-881e-7e6c5dc164d6",
   "metadata": {},
   "outputs": [],
   "source": [
    "def mam_odes(t, y, p):\n",
    "    (p0, p1, p2,\n",
    "     s0, s1, s2,\n",
    "     a0, a1, a2, a3,\n",
    "     u0, u1, u2) = y\n",
    "\n",
    "    dp0 = -p['lambda_p0_p2'] * a3 * p0\n",
    "    dp2 = p['lambda_p0_p2'] * a3 * p0 - p['lambda_p2_p1'] * s2 * p2\n",
    "    dp1 = p['lambda_p2_p1'] * s2 * p2\n",
    "\n",
    "    ds0 = -p['lambda_s0_s1'] * s0\n",
    "    ds1 = p['lambda_s0_s1'] * s0 - p['lambda_s1_s2'] * s1\n",
    "    ds2 = p['lambda_s1_s2'] * s1\n",
    "\n",
    "    da0 = -p['lambda_a1_a2'] * a0\n",
    "    da1 = p['lambda_a1_a2'] * a0 - p['lambda_a2_a3'] * a1\n",
    "    da2 = p['lambda_a2_a3'] * a1 - p['lambda_a2_a3'] * a2\n",
    "    da3 = p['lambda_a2_a3'] * a2\n",
    "\n",
    "    du0 = -p['lambda_u0_u1'] * u0\n",
    "    du1 = p['lambda_u0_u1'] * u0 - p['lambda_u1_u2'] * u1\n",
    "    du2 = p['lambda_u1_u2'] * u1\n",
    "\n",
    "    return [dp0, dp1, dp2,\n",
    "            ds0, ds1, ds2,\n",
    "            da0, da1, da2, da3,\n",
    "            du0, du1, du2]\n",
    "\n"
   ]
  },
  {
   "cell_type": "markdown",
   "id": "5868b0c3-e9a0-4dfd-a2c8-cc553d759142",
   "metadata": {},
   "source": [
    "# Plot dynamics"
   ]
  },
  {
   "cell_type": "code",
   "execution_count": 6,
   "id": "c1883309-75a1-4545-b1fe-00f83d3f174a",
   "metadata": {},
   "outputs": [],
   "source": [
    "\n",
    "plt.figure(figsize=(12, 6))\n",
    "labels = ['p0', 'p1', 'p2', 's0', 's1', 's2', 'a0', 'a1', 'a2', 'a3', 'u0', 'u1', 'u2']\n",
    "for i in range(len(labels)):\n",
    "    plt.plot(sol.t, sol.y[i], label=labels[i])\n",
    "plt.xlabel(\"Time (hours)\")\n",
    "plt.ylabel(\"Fraction of Agents\")\n",
    "plt.title(\"Mean-Field Dynamics of the Markovian Agent Model\")\n",
    "plt.legend()\n",
    "plt.grid(True)\n",
    "plt.savefig(\"plots/mam_mean_field_dynamics.png\", dpi=300)\n",
    "plt.close()\n",
    "\n",
    "# SLA metrics from MAM\n",
    "p2 = sol.y[2]   # Compromised devices\n",
    "s2 = sol.y[5]   # Mitigating systems\n",
    "\n",
    "# Throughput proxy = mitigation activity over time\n",
    "throughput = params['lambda_p2_p1'] * s2 * p2\n",
    "avg_throughput = simpson(throughput, x=sol.t) / (t_span[1] - t_span[0])\n",
    "\n",
    "# Latency proxy = area under curve of compromised devices\n",
    "area_p2 = simpson(p2, x=sol.t)\n",
    "avg_latency = area_p2 / (t_span[1] - t_span[0])\n",
    "\n",
    "# Save SLA metrics to file\n",
    "with open(\"plots/mam_sla_metrics.txt\", \"w\") as f:\n",
    "    f.write(f\"Average Mitigation Throughput (proxy): {avg_throughput:.4f} per hour\\n\")\n",
    "    f.write(f\"Average Latency (proxy): {avg_latency:.4f} (fraction-hours)\\n\")"
   ]
  }
 ],
 "metadata": {
  "kernelspec": {
   "display_name": "Python 3 (ipykernel)",
   "language": "python",
   "name": "python3"
  },
  "language_info": {
   "codemirror_mode": {
    "name": "ipython",
    "version": 3
   },
   "file_extension": ".py",
   "mimetype": "text/x-python",
   "name": "python",
   "nbconvert_exporter": "python",
   "pygments_lexer": "ipython3",
   "version": "3.11.8"
  }
 },
 "nbformat": 4,
 "nbformat_minor": 5
}
