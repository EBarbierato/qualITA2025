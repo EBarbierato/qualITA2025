{
 "cells": [
  {
   "cell_type": "code",
   "execution_count": 1,
   "id": "a4054cad-f7de-41b8-aac5-6a041c7689d4",
   "metadata": {},
   "outputs": [],
   "source": [
    "# !pip install graphviz"
   ]
  },
  {
   "cell_type": "markdown",
   "id": "34b866b6-b025-4206-8f09-31ddeac62a1d",
   "metadata": {},
   "source": [
    "# Modello HCPN per Smart Hospital\n"
   ]
  },
  {
   "cell_type": "code",
   "execution_count": 2,
   "id": "7355f4fc-913c-47c3-a53c-e6978069b4f7",
   "metadata": {},
   "outputs": [],
   "source": [
    "from pathlib import Path\n",
    "\n",
    "import random\n",
    "import matplotlib.pyplot as plt\n",
    "from collections import defaultdict\n",
    "import os\n",
    "\n",
    "\n",
    "os.makedirs(\"plots\", exist_ok=True)\n",
    "\n",
    "# Set seed for reproducibility\n",
    "random.seed(42)"
   ]
  },
  {
   "cell_type": "markdown",
   "id": "067cdac2-04d0-4c64-b8df-052809d95005",
   "metadata": {},
   "source": [
    "# Define places in the system"
   ]
  },
  {
   "cell_type": "code",
   "execution_count": 3,
   "id": "2629f930-7f99-4691-b268-a45884174196",
   "metadata": {},
   "outputs": [],
   "source": [
    "places = [\n",
    "    \"ECG_gen\", \"O2_gen\", \"Vent_gen\", \"Diag_gen\",\n",
    "    \"EdgeA_buff\", \"EdgeB_buff\", \"EdgeA_proc\", \"EdgeB_proc\",\n",
    "    \"SecA_monitor\", \"SecB_monitor\", \"Central_proc\",\n",
    "    \"ICU_disp\", \"ER_disp\"\n",
    "]\n"
   ]
  },
  {
   "cell_type": "markdown",
   "id": "fdda7b9c-fcf6-43b2-b33b-de9f244dd8cb",
   "metadata": {},
   "source": [
    "# Define transitions with probabilities (realistic, literature-based)"
   ]
  },
  {
   "cell_type": "code",
   "execution_count": 4,
   "id": "b3cc0808-6133-47ee-babf-08b41d75a1a1",
   "metadata": {},
   "outputs": [],
   "source": [
    "\n",
    "transitions = {\n",
    "    \"ECG_gen -> EdgeA_buff\": 0.6,\n",
    "    \"O2_gen -> EdgeA_buff\": 0.6,\n",
    "    \"Vent_gen -> EdgeB_buff\": 0.4,\n",
    "    \"Diag_gen -> EdgeB_buff\": 0.4,\n",
    "    \"EdgeA_buff -> EdgeA_proc\": 0.7,\n",
    "    \"EdgeB_buff -> EdgeB_proc\": 0.6,\n",
    "    \"EdgeA_proc -> SecA_monitor\": 0.65,\n",
    "    \"EdgeB_proc -> SecB_monitor\": 0.55,\n",
    "    \"SecA_monitor -> Central_proc\": 0.75,\n",
    "    \"SecB_monitor -> Central_proc\": 0.65,\n",
    "    \"Central_proc -> ICU_disp\": 0.5,\n",
    "    \"Central_proc -> ER_disp\": 0.5\n",
    "}\n",
    "\n"
   ]
  },
  {
   "cell_type": "markdown",
   "id": "713540ff-a579-4d6c-a7e6-aacd6c942220",
   "metadata": {},
   "source": [
    "# Parameters"
   ]
  },
  {
   "cell_type": "code",
   "execution_count": 5,
   "id": "021e7af6-ec14-459a-9cdb-164d9a9b394e",
   "metadata": {},
   "outputs": [],
   "source": [
    "\n",
    "num_simulations = 1000\n",
    "num_steps = 100\n"
   ]
  },
  {
   "cell_type": "markdown",
   "id": "d790c105-5c69-4e63-bdeb-9f7093422c6f",
   "metadata": {},
   "source": [
    "\n",
    "# Initialize results\n"
   ]
  },
  {
   "cell_type": "code",
   "execution_count": 6,
   "id": "b8d9984b-df30-466c-a932-490ec2a51009",
   "metadata": {},
   "outputs": [],
   "source": [
    "place_token_history = defaultdict(list)\n",
    "transition_throughput = defaultdict(int)\n",
    "latency_records = []\n"
   ]
  },
  {
   "cell_type": "markdown",
   "id": "45846e7b-865e-4f9a-8d7d-9798333132ee",
   "metadata": {},
   "source": [
    "# Run simulations"
   ]
  },
  {
   "cell_type": "code",
   "execution_count": 7,
   "id": "0b85ce3c-4830-4b70-8575-39a006dd5e7e",
   "metadata": {},
   "outputs": [],
   "source": [
    "for sim in range(num_simulations):\n",
    "    # Initialize tokens for each simulation\n",
    "    markings = defaultdict(list)\n",
    "    token_birth = {}\n",
    "\n",
    "    for step in range(num_steps):\n",
    "        # 1. Generate new tokens at source places\n",
    "        for dev in [\"ECG\", \"O2\", \"Vent\", \"Diag\"]:\n",
    "            if random.random() < 0.4:\n",
    "                token = (sim, step, random.randint(1, 50))\n",
    "                place = f\"{dev}_gen\"\n",
    "                markings[place].append(token)\n",
    "                token_birth[token] = step\n",
    "\n",
    "        # 2. Transition firings\n",
    "        for transition, prob in transitions.items():\n",
    "            src, dst = transition.split(\" -> \")\n",
    "            if markings[src] and random.random() < prob:\n",
    "                token = markings[src].pop(0)\n",
    "                markings[dst].append(token)\n",
    "                transition_throughput[transition] += 1\n",
    "                # If transition to final place, compute latency\n",
    "                if dst in [\"ICU_disp\", \"ER_disp\"]:\n",
    "                    birth = token_birth.get(token)\n",
    "                    if birth is not None:\n",
    "                        latency = step - birth\n",
    "                        latency_records.append(latency)\n",
    "\n",
    "        # 3. Record token count in each place\n",
    "        for place in places:\n",
    "            place_token_history[place].append(len(markings[place]))\n"
   ]
  },
  {
   "cell_type": "code",
   "execution_count": 8,
   "id": "c0cced35-8e66-4dd1-91d6-c0ea3ffe77b6",
   "metadata": {},
   "outputs": [],
   "source": [
    "\n",
    "# Save all plots\n",
    "Path(\"plots\").mkdir(exist_ok=True)\n",
    "\n",
    "# 1. Mean token plot\n",
    "avg_tokens = {p: sum(ts)/len(ts) for p, ts in place_token_history.items()}\n",
    "plt.figure(figsize=(14, 6))\n",
    "plt.bar(avg_tokens.keys(), avg_tokens.values(), color=\"steelblue\")\n",
    "plt.xticks(rotation=45, ha=\"right\")\n",
    "plt.title(\"Mean Number of Tokens per Place (100 Simulations)\")\n",
    "plt.ylabel(\"Average Token Count\")\n",
    "plt.tight_layout()\n",
    "plt.savefig(\"plots/mean_tokens.png\", dpi=300)\n",
    "plt.close()\n",
    "\n",
    "# 2. Throughput\n",
    "throughput_sorted = dict(sorted(transition_throughput.items(), key=lambda x: x[1], reverse=True))\n",
    "plt.figure(figsize=(14, 6))\n",
    "plt.bar(throughput_sorted.keys(), throughput_sorted.values(), color=\"tomato\")\n",
    "plt.xticks(rotation=45, ha=\"right\")\n",
    "plt.title(\"Transition Throughput over 100 Simulations\")\n",
    "plt.ylabel(\"Fired Count\")\n",
    "plt.tight_layout()\n",
    "plt.savefig(\"plots/throughput.png\", dpi=300)\n",
    "plt.close()\n",
    "\n",
    "# 3. Latency\n",
    "plt.figure(figsize=(10, 5))\n",
    "plt.hist(latency_records, bins=25, color=\"darkgreen\", edgecolor=\"black\", alpha=0.8)\n",
    "plt.title(\"Latency Distribution from Source to ICU/ER\")\n",
    "plt.xlabel(\"Latency (Steps)\")\n",
    "plt.ylabel(\"Frequency\")\n",
    "plt.tight_layout()\n",
    "plt.savefig(\"plots/latency_hist.png\", dpi=300)\n",
    "plt.close()"
   ]
  }
 ],
 "metadata": {
  "kernelspec": {
   "display_name": "Python 3 (ipykernel)",
   "language": "python",
   "name": "python3"
  },
  "language_info": {
   "codemirror_mode": {
    "name": "ipython",
    "version": 3
   },
   "file_extension": ".py",
   "mimetype": "text/x-python",
   "name": "python",
   "nbconvert_exporter": "python",
   "pygments_lexer": "ipython3",
   "version": "3.11.8"
  }
 },
 "nbformat": 4,
 "nbformat_minor": 5
}
